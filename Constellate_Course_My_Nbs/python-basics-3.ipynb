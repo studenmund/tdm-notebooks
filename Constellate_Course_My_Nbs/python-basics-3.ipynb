{
 "cells": [
  {
   "cell_type": "markdown",
   "metadata": {},
   "source": [
    "<img align=\"left\" src=\"https://ithaka-labs.s3.amazonaws.com/static-files/images/tdm/tdmdocs/CC_BY.png\"><br />\n",
    "\n",
    "Created by [Nathan Kelber](http://nkelber.com) and Ted Lawless for [JSTOR Labs](https://labs.jstor.org/) under [Creative Commons CC BY License](https://creativecommons.org/licenses/by/4.0/)<br />\n",
    "For questions/comments/improvements, email nathan.kelber@ithaka.org.<br />\n",
    "___"
   ]
  },
  {
   "cell_type": "markdown",
   "metadata": {},
   "source": [
    "# Python Basics 3\n",
    "\n",
    "**Description:** This lesson describes the basics of [lists](https://docs.constellate.org/key-terms/#list) and [dictionaries](https://docs.constellate.org/key-terms/#dictionary) including:\n",
    "\n",
    "* The `in` and `not in` [operators](https://docs.constellate.org/key-terms/#operator)\n",
    "* [Lists](https://docs.constellate.org/key-terms/#list)\n",
    "* [List](https://docs.constellate.org/key-terms/#list) methods (`index()`, `append()`, `insert()`, `sort()`)\n",
    "* [Dictionaries](https://docs.constellate.org/key-terms/#dictionary)\n",
    "* [Dictionary](https://docs.constellate.org/key-terms/#dictionary) methods (`update()`, `keys()`, `values()`, `items()`, `get()`)\n",
    "\n",
    "This is part 3 of 3 in the series *Python Basics* that will prepare you to do text analysis using the [Python](https://docs.constellate.org/key-terms/#python) programming language.\n",
    "\n",
    "**Use Case:** For Learners (Detailed explanation, not ideal for researchers)\n",
    "\n",
    "**Difficulty:** Beginner\n",
    "\n",
    "**Completion Time:** 90 minutes\n",
    "\n",
    "**Knowledge Required:** \n",
    "* [Getting Started with Jupyter Notebooks](./getting-started-with-jupyter.ipynb)\n",
    "* [Python Basics 2](./python-basics-1.ipynb)\n",
    "* [Python Basics 3](./python-basics-2.ipynb)\n",
    "\n",
    "**Knowledge Recommended:** None\n",
    "\n",
    "**Data Format:** None\n",
    "\n",
    "**Libraries Used:** None\n",
    "\n",
    "**Research Pipeline:** None\n",
    "___"
   ]
  },
  {
   "cell_type": "markdown",
   "metadata": {},
   "source": [
    "In *Python Basics 1*, we learned about three data types: [integers](https://docs.constellate.org/key-terms/#integer), [floats](https://docs.constellate.org/key-terms/#float), and [strings](https://docs.constellate.org/key-terms/#string). In this lesson, we will learn about two additional data types: [lists](https://docs.constellate.org/key-terms/#list) and [dictionaries](https://docs.constellate.org/key-terms/#dictionary). [Lists](https://docs.constellate.org/key-terms/#list) and [dictionaries](https://docs.constellate.org/key-terms/#dictionary) help us store many values inside a single [variable](https://docs.constellate.org/key-terms/#variable). This is helpful for a few reasons.\n",
    "\n",
    "* We can store many items in a single [list](https://docs.constellate.org/key-terms/#list) or [dictionary](https://docs.constellate.org/key-terms/#dictionary), making it easier to keep the data together\n",
    "* [Lists](https://docs.constellate.org/key-terms/#list) and [dictionaries](https://docs.constellate.org/key-terms/#dictionary) only require a single [assignment state](https://docs.constellate.org/key-terms/#assignment-statement)\n",
    "* [Lists](https://docs.constellate.org/key-terms/#list) and [dictionaries](https://docs.constellate.org/key-terms/#dictionary) have additional capabilities that will make organizing our data easier\n",
    "\n",
    "The fundamental difference between a [list](https://docs.constellate.org/key-terms/#list) and a [dictionary](https://docs.constellate.org/key-terms/#dictionary) is that a [list](https://docs.constellate.org/key-terms/#list) stores items in sequential order (starting from 0) while a [dictionary](https://docs.constellate.org/key-terms/#dictionary) stores items in [key/value pairs](https://docs.constellate.org/key-terms/#key-value-pair). When we want to retrieve an item in a list, we use an [index number](https://docs.constellate.org/key-terms/#index-number) or a set of [index numbers](https://docs.constellate.org/key-terms/#index-number) called a [slice](https://docs.constellate.org/key-terms/#slice) as a reference. When we want to retrieve an item from a [dictionary](https://docs.constellate.org/key-terms/#dictionary), we supply a [key](https://docs.constellate.org/key-terms/#key-value-pair) that returns the [value](https://docs.constellate.org/key-terms/#key-value-pair) (or set of values) associated with that [key](https://docs.constellate.org/key-terms/#key-value-pair). Each of these approaches can be beneficial depending on what kind of data we are working with (and what we intend to do with the data)."
   ]
  },
  {
   "cell_type": "markdown",
   "metadata": {},
   "source": [
    "## Lists\n",
    "\n",
    "A [list](https://docs.constellate.org/key-terms/#list) can store anywhere from zero to millions of items. The items that can be stored in a [list](https://docs.constellate.org/key-terms/#list) include the data types we have already learned: [integers](https://docs.constellate.org/key-terms/#integer), [floats](https://docs.constellate.org/key-terms/#float), and [strings](https://docs.constellate.org/key-terms/#string). A [list](https://docs.constellate.org/key-terms/#list) [assignment state](https://docs.constellate.org/key-terms/#assignment-statement) takes the form.\n",
    "`my_list = [item1, item2, item3, item4...]`"
   ]
  },
  {
   "cell_type": "code",
   "execution_count": 1,
   "metadata": {},
   "outputs": [
    {
     "name": "stdout",
     "output_type": "stream",
     "text": [
      "[7, 21, 100]\n"
     ]
    }
   ],
   "source": [
    "# A list containing integers\n",
    "my_favorite_numbers = [7, 21, 100]\n",
    "print(my_favorite_numbers)"
   ]
  },
  {
   "cell_type": "code",
   "execution_count": 2,
   "metadata": {},
   "outputs": [
    {
     "name": "stdout",
     "output_type": "stream",
     "text": [
      "['Harriet Tubman', 'Rosa Parks', 'Pauli Murray']\n"
     ]
    }
   ],
   "source": [
    "# A list containing strings\n",
    "my_inspirations = ['Harriet Tubman', 'Rosa Parks', 'Pauli Murray']\n",
    "print(my_inspirations)"
   ]
  },
  {
   "cell_type": "markdown",
   "metadata": {},
   "source": [
    "Both `my_favorite_numbers` and `my_inspirations` have three items, but we could have also initialized them with no items `my_favorite_numbers = []` or many more items. Each item has an [index number](https://docs.constellate.org/key-terms/#index-number) that depends on their order. The first item is 0, the second item is 1, the third item is 2, etc. In the `my_inspirations` list, `'Pauli Murray'` is item 2."
   ]
  },
  {
   "cell_type": "code",
   "execution_count": 15,
   "metadata": {},
   "outputs": [
    {
     "name": "stdout",
     "output_type": "stream",
     "text": [
      "Harriet Tubman\n",
      "Rosa Parks\n",
      "Pauli Murray\n"
     ]
    }
   ],
   "source": [
    "# Retrieving an item in a list\n",
    "for n in range(len(my_inspirations)):\n",
    "    print(my_inspirations[n])"
   ]
  },
  {
   "cell_type": "markdown",
   "metadata": {},
   "source": [
    "___\n",
    "<h3 style=\"color:red; display:inline\">Try it! &lt; / &gt; </h3>\n",
    "\n",
    "**What happens if you change the index number to 1? What about 3? 2.0?**\n",
    "\n",
    "___\n",
    "\n",
    "\n",
    "[Lists](https://docs.constellate.org/key-terms/#list) can also contain other [lists](https://docs.constellate.org/key-terms/#list). To retrieve a value from a [list](https://docs.constellate.org/key-terms/#list) within a [list](https://docs.constellate.org/key-terms/#list), we use two [indexes](https://docs.constellate.org/key-terms/#index-number) (or indices)."
   ]
  },
  {
   "cell_type": "code",
   "execution_count": 16,
   "metadata": {},
   "outputs": [
    {
     "data": {
      "text/plain": [
       "'Pauli Murray'"
      ]
     },
     "execution_count": 16,
     "metadata": {},
     "output_type": "execute_result"
    }
   ],
   "source": [
    "# Retrieving an item from a list within a list\n",
    "my_inspirations = [['Harriet Tubman', 'Rosa Parks', 'Pauli Murray'], ['Martin Luther King Jr.', 'Frederick Douglass', 'Malcolm X']]\n",
    "my_inspirations[0][2]"
   ]
  },
  {
   "cell_type": "code",
   "execution_count": 24,
   "metadata": {},
   "outputs": [
    {
     "data": {
      "text/plain": [
       "'Frederick Douglass'"
      ]
     },
     "execution_count": 24,
     "metadata": {},
     "output_type": "execute_result"
    }
   ],
   "source": [
    "# Retrieving an item from a list within a list\n",
    "my_inspirations = [\n",
    "    ['Harriet Tubman', 'Rosa Parks', 'Pauli Murray'], \n",
    "    ['Martin Luther King Jr.', 'Frederick Douglass', 'Malcolm X']\n",
    "]\n",
    "my_inspirations[1][1]"
   ]
  },
  {
   "cell_type": "markdown",
   "metadata": {},
   "source": [
    "___\n",
    "<h3 style=\"color:red; display:inline\">Try it! &lt; / &gt; </h3>\n",
    "\n",
    "**Can you change the index for `my_inspirations` to retrieve `'Malcolm X'`?**\n",
    "___\n",
    "\n",
    "We can also select items from a [list](https://docs.constellate.org/key-terms/#list) beginning from the end/right side of a [list](https://docs.constellate.org/key-terms/#list) by using negative [index numbers](https://docs.constellate.org/key-terms/#index-number)."
   ]
  },
  {
   "cell_type": "code",
   "execution_count": 21,
   "metadata": {},
   "outputs": [
    {
     "name": "stdout",
     "output_type": "stream",
     "text": [
      "Pauli Murray\n"
     ]
    },
    {
     "data": {
      "text/plain": [
       "True"
      ]
     },
     "execution_count": 21,
     "metadata": {},
     "output_type": "execute_result"
    }
   ],
   "source": [
    "# Retrieving an item from the end of a list by using negative indices\n",
    "my_inspirations = ['Harriet Tubman', 'Rosa Parks', 'Pauli Murray']\n",
    "print(my_inspirations[-1])\n",
    "my_inspirations[-1] == my_inspirations[len(my_inspirations)-1]"
   ]
  },
  {
   "cell_type": "markdown",
   "metadata": {},
   "source": [
    "We can also retrieve a group of consecutive items from a [list](https://docs.constellate.org/key-terms/#list) using [slices](https://docs.constellate.org/key-terms/#slice) instead of a single [index number](https://docs.constellate.org/key-terms/#index-number). We create a [slice](https://docs.constellate.org/key-terms/#slice) by indicating a starting and ending [index number](https://docs.constellate.org/key-terms/#index-number). The [slice](https://docs.constellate.org/key-terms/#slice) is a smaller [list](https://docs.constellate.org/key-terms/#list) containing all the items between our starting and stopping [index number](https://docs.constellate.org/key-terms/#index-number)."
   ]
  },
  {
   "cell_type": "code",
   "execution_count": 26,
   "metadata": {},
   "outputs": [
    {
     "name": "stdout",
     "output_type": "stream",
     "text": [
      "['Late Middle Ages', 'Early Modern Period']\n"
     ]
    }
   ],
   "source": [
    "# Taking a slice of a list\n",
    "historical_periods = ['Classical Antiquity',\n",
    "                      'Early Middle Ages', \n",
    "                      'High Middle Ages', \n",
    "                      'Late Middle Ages', \n",
    "                      'Early Modern Period', \n",
    "                      'Late Modern Period', \n",
    "                      'Contemporary History']\n",
    "sub_periods = historical_periods[3:5]\n",
    "print(sub_periods)"
   ]
  },
  {
   "cell_type": "markdown",
   "metadata": {},
   "source": [
    "Notice in our [slice](https://docs.constellate.org/key-terms/#slice) that the second [index](https://docs.constellate.org/key-terms/#index-number) in a [slice](https://docs.constellate.org/key-terms/#slice) is the stopping point. That is our return [list](https://docs.constellate.org/key-terms/#list) contains `historical_periods[3]` (`'Late Middle Ages'`) and `historical_periods[4]` (`'Early Modern Period'`), but it does not include `historical_periods[5]` (`'Late Modern Period'`). This can be confusing if you were expecting three items instead of two. One way to remember this is by subtracting the [indexes](https://docs.constellate.org/key-terms/#index-number) in your head (5 - 3 = 2 items).\n",
    "\n",
    "It is not uncommon for [lists](https://docs.constellate.org/key-terms/#list) to be hundreds or thousands of items long. It would be a chore to count all those items to create a [slice](https://docs.constellate.org/key-terms/#slice). If you want to know the length of a [list](https://docs.constellate.org/key-terms/#list), you can use the `len()` function."
   ]
  },
  {
   "cell_type": "code",
   "execution_count": 27,
   "metadata": {},
   "outputs": [
    {
     "data": {
      "text/plain": [
       "7"
      ]
     },
     "execution_count": 27,
     "metadata": {},
     "output_type": "execute_result"
    }
   ],
   "source": [
    "# Using the len() function to discover the number of items in the list\n",
    "historical_periods = ['Classical Antiquity', \n",
    "                      'Early Middle Ages', \n",
    "                      'High Middle Ages', \n",
    "                      'Late Middle Ages', \n",
    "                      'Early Modern Period', \n",
    "                      'Late Modern Period', \n",
    "                      'Contemporary History']\n",
    "len(historical_periods)"
   ]
  },
  {
   "cell_type": "markdown",
   "metadata": {},
   "source": [
    "The `historical_periods` [list](https://docs.constellate.org/key-terms/#list) is 7 items long, meaning the whole [list](https://docs.constellate.org/key-terms/#list) is within the [slice](https://docs.constellate.org/key-terms/#slice) `historical_periods[0:7]`. When we take a [slice](https://docs.constellate.org/key-terms/#slice) of a [list](https://docs.constellate.org/key-terms/#list) we can also leave out the first [index number](https://docs.constellate.org/key-terms/#index-number) (0 is assumed) or the stopping [index number](https://docs.constellate.org/key-terms/#index-number) (the last item is assumed)."
   ]
  },
  {
   "cell_type": "code",
   "execution_count": 29,
   "metadata": {},
   "outputs": [
    {
     "data": {
      "text/plain": [
       "['Classical Antiquity',\n",
       " 'Early Middle Ages',\n",
       " 'High Middle Ages',\n",
       " 'Late Middle Ages']"
      ]
     },
     "execution_count": 29,
     "metadata": {},
     "output_type": "execute_result"
    }
   ],
   "source": [
    "# Taking a slice of a list without a beginning index\n",
    "historical_periods = ['Classical Antiquity', \n",
    "                      'Early Middle Ages', \n",
    "                      'High Middle Ages', \n",
    "                      'Late Middle Ages', \n",
    "                      'Early Modern Period', \n",
    "                      'Late Modern Period', \n",
    "                      'Contemporary History']\n",
    "historical_periods[:4]"
   ]
  },
  {
   "cell_type": "code",
   "execution_count": 30,
   "metadata": {},
   "outputs": [
    {
     "data": {
      "text/plain": [
       "['Early Modern Period', 'Late Modern Period', 'Contemporary History']"
      ]
     },
     "execution_count": 30,
     "metadata": {},
     "output_type": "execute_result"
    }
   ],
   "source": [
    "historical_periods[4:]"
   ]
  },
  {
   "cell_type": "code",
   "execution_count": 31,
   "metadata": {},
   "outputs": [
    {
     "data": {
      "text/plain": [
       "True"
      ]
     },
     "execution_count": 31,
     "metadata": {},
     "output_type": "execute_result"
    }
   ],
   "source": [
    "historical_periods == historical_periods[:]"
   ]
  },
  {
   "cell_type": "code",
   "execution_count": 32,
   "metadata": {},
   "outputs": [],
   "source": [
    "historical_periods = ['Classical Antiquity', \n",
    "                      3, \n",
    "                      'High Middle Ages', \n",
    "                      'Late Middle Ages', \n",
    "                      'Early Modern Period', \n",
    "                      'Late Modern Period', \n",
    "                      'Contemporary History']"
   ]
  },
  {
   "cell_type": "markdown",
   "metadata": {},
   "source": [
    "___\n",
    "<h3 style=\"color:red; display:inline\">Try it! &lt; / &gt; </h3>\n",
    "\n",
    "**Can you take a [slice](https://docs.constellate.org/key-terms/#slice) from the historical_periods [list](https://docs.constellate.org/key-terms/#list) without using a starting or ending [index number](https://docs.constellate.org/key-terms/#index-number)?**\n",
    "___\n"
   ]
  },
  {
   "cell_type": "markdown",
   "metadata": {},
   "source": [
    "### The `in` and `not in` Operators\n",
    "\n",
    "If we have a long [list](https://docs.constellate.org/key-terms/#list), it may be helpful to check whether a value is in the [list](https://docs.constellate.org/key-terms/#list). We can do this with the `in` and `not in` operators, which return a [boolean value](https://docs.constellate.org/key-terms/#boolean-value): **True** or **False**."
   ]
  },
  {
   "cell_type": "code",
   "execution_count": 33,
   "metadata": {},
   "outputs": [
    {
     "data": {
      "text/plain": [
       "True"
      ]
     },
     "execution_count": 33,
     "metadata": {},
     "output_type": "execute_result"
    }
   ],
   "source": [
    "# Checking whether an item is in a list using the `in` operator\n",
    "\n",
    "# Create a list called `staff`\n",
    "staff = ['Tara Richards',\n",
    " 'Tammy French',\n",
    " 'Justin Douglas',\n",
    " 'Lauren Marquez',\n",
    " 'Aaron Wilson',\n",
    " 'Dennis Howell',\n",
    " 'Brandon Reed',\n",
    " 'Kelly Baker',\n",
    " 'Justin Howard',\n",
    " 'Sarah Myers',\n",
    " 'Vanessa Burgess',\n",
    " 'Timothy Davidson',\n",
    " 'Jessica Lee',\n",
    " 'Christopher Miller',\n",
    " 'Lisa Grant',\n",
    " 'Ryan Chan',\n",
    " 'Gary Carson',\n",
    " 'Anthony Mitchell',\n",
    " 'Jacob Turner',\n",
    " 'Jennifer Bonilla',\n",
    " 'Rachel Gonzalez',\n",
    " 'Andrew Clark',\n",
    " 'Richard Pearson',\n",
    " 'Glenn Allen',\n",
    " 'Jacqueline Gallagher',\n",
    " 'Carlos Mcdowell',\n",
    " 'Jeffrey Harris',\n",
    " 'Danielle Griffith',\n",
    " 'Sarah Craig',\n",
    " 'Vernon Vasquez',\n",
    " 'Anthony Burton',\n",
    " 'Erica Bryant',\n",
    " 'Patricia Walker',\n",
    " 'Karen Brown',\n",
    " 'Terri Walker',\n",
    " 'Michelle Knight',\n",
    " 'Kathleen Douglas',\n",
    " 'Debbie Estrada',\n",
    " 'Jennifer Brewer',\n",
    " 'Taylor Rodriguez',\n",
    " 'Lisa Turner',\n",
    " 'Julie Hudson',\n",
    " 'Christina Cox',\n",
    " 'Nancy Patrick',\n",
    " 'Rita Mosley',\n",
    " 'Nicholas Gordon',\n",
    " 'Wanda Vasquez',\n",
    " 'Jason Lopez',\n",
    " 'Anna Powers',\n",
    " 'Tyler Perez']\n",
    "\n",
    "# Check whether a name is in staff\n",
    "'Patricia Walker' in staff"
   ]
  },
  {
   "cell_type": "code",
   "execution_count": 34,
   "metadata": {},
   "outputs": [
    {
     "data": {
      "text/plain": [
       "50"
      ]
     },
     "execution_count": 34,
     "metadata": {},
     "output_type": "execute_result"
    }
   ],
   "source": [
    "len(staff)"
   ]
  },
  {
   "cell_type": "code",
   "execution_count": 36,
   "metadata": {},
   "outputs": [
    {
     "data": {
      "text/plain": [
       "True"
      ]
     },
     "execution_count": 36,
     "metadata": {},
     "output_type": "execute_result"
    }
   ],
   "source": [
    "'Erica Bryant' in staff"
   ]
  },
  {
   "cell_type": "code",
   "execution_count": 50,
   "metadata": {},
   "outputs": [
    {
     "name": "stdout",
     "output_type": "stream",
     "text": [
      "0\n",
      "1\n"
     ]
    }
   ],
   "source": [
    "def count_last_names(staff, last_name):\n",
    "    n = 0\n",
    "    for staff_name in staff:\n",
    "        if staff_name.split()[-1] == last_name:\n",
    "            n = n+1\n",
    "    return n\n",
    "\n",
    "print(count_last_names(staff, 'Studenmund'))\n",
    "print(count_last_names(staff, 'Douglas'))"
   ]
  },
  {
   "cell_type": "markdown",
   "metadata": {},
   "source": [
    "___\n",
    "<h3 style=\"color:red; display:inline\">Try it! &lt; / &gt; </h3>\n",
    "\n",
    "**Is Rita McDowell in `staff`? What about Erica Bryant?**\n",
    "___"
   ]
  },
  {
   "cell_type": "markdown",
   "metadata": {},
   "source": [
    "We can change the value of any item in a [list](https://docs.constellate.org/key-terms/#list) using an [assignment statement](https://docs.constellate.org/key-terms/#assignment-statement) that contains the item's [index number](https://docs.constellate.org/key-terms/#index-number)."
   ]
  },
  {
   "cell_type": "code",
   "execution_count": 44,
   "metadata": {},
   "outputs": [
    {
     "name": "stdout",
     "output_type": "stream",
     "text": [
      "['Classical Antiquity', 'Dark Ages', 'Modern Period']\n",
      "['Classical Antiquity', 'Middle Ages', 'Modern Period']\n"
     ]
    }
   ],
   "source": [
    "# Creating a list of historical periods\n",
    "historical_periods = ['Classical Antiquity', 'Dark Ages', 'Modern Period']\n",
    "print(historical_periods)\n",
    "\n",
    "# Changing an item using an assignment state with index number\n",
    "historical_periods[1] = 'Middle Ages'\n",
    "print(historical_periods)\n"
   ]
  },
  {
   "cell_type": "markdown",
   "metadata": {},
   "source": [
    "Now we know how to change an item in a [list](https://docs.constellate.org/key-terms/#list). And can use the `in` and `not in` operator to determine if an item is in the [list](https://docs.constellate.org/key-terms/#list). But if we don't know the [index number](https://docs.constellate.org/key-terms/#index-number) of the item, we won't know which [index number](https://docs.constellate.org/key-terms/#index-number) to change. We need a way to pass both the name of the [list](https://docs.constellate.org/key-terms/#list) and the name of the item simultaneously to a [function](https://docs.constellate.org/key-terms/#function). To do that, we'll use a special kind of [function](https://docs.constellate.org/key-terms/#function) called a [method](https://docs.constellate.org/key-terms/#method)."
   ]
  },
  {
   "cell_type": "markdown",
   "metadata": {},
   "source": [
    "## List Methods\n",
    "\n",
    "A [method](https://docs.constellate.org/key-terms/#method) is a kind of [function](https://docs.constellate.org/key-terms/#function). (Remember, [functions](https://docs.constellate.org/key-terms/#function) end in parentheses.) [Methods](https://docs.constellate.org/key-terms/#method), however, act on objects (like [lists](https://docs.constellate.org/key-terms/#list)) so they have a slightly different written form. We will take a look at five useful [methods](https://docs.constellate.org/key-terms/#method) for working with [lists](https://docs.constellate.org/key-terms/#list).\n",
    "\n",
    "|Method Name | Purpose | Form |\n",
    "|---|---|---|\n",
    "|index()| search for an item in a list and return the index number | list_name.index(item_name)|\n",
    "|append()| add an item to the end of a list | list_name.append(item_name)|\n",
    "|insert()| insert an item in the middle of a list | list_name.insert(index_number, item_name)|\n",
    "|remove()| remove an item from a list based on value | list_name.remove('item_value')|\n",
    "|sort()| sort the order of a list | list_name.sort()|\n",
    "\n",
    "### The `index()` Method\n",
    "\n",
    "The `index()` [method](https://docs.constellate.org/key-terms/#method) checks to see if a value is in a [list](https://docs.constellate.org/key-terms/#list). If the value is found, it returns the [index number](https://docs.constellate.org/key-terms/#index-number) for the first item with that value. (Keep in mind, there could be multiple items with a single value in a [list](https://docs.constellate.org/key-terms/#list)). If the value is not found, the `index()` [method](https://docs.constellate.org/key-terms/#method) returns a `ValueError`."
   ]
  },
  {
   "cell_type": "code",
   "execution_count": 45,
   "metadata": {},
   "outputs": [
    {
     "data": {
      "text/plain": [
       "12"
      ]
     },
     "execution_count": 45,
     "metadata": {},
     "output_type": "execute_result"
    }
   ],
   "source": [
    "# Using the index() method to return the index number of an item by passing a value\n",
    "staff = ['Tara Richards',\n",
    " 'Tammy French',\n",
    " 'Justin Douglas',\n",
    " 'Lauren Marquez',\n",
    " 'Aaron Wilson',\n",
    " 'Dennis Howell',\n",
    " 'Brandon Reed',\n",
    " 'Kelly Baker',\n",
    " 'Justin Howard',\n",
    " 'Sarah Myers',\n",
    " 'Vanessa Burgess',\n",
    " 'Timothy Davidson',\n",
    " 'Jessica Lee',\n",
    " 'Christopher Miller',\n",
    " 'Lisa Grant',\n",
    " 'Ryan Chan',\n",
    " 'Gary Carson',\n",
    " 'Anthony Mitchell',\n",
    " 'Jacob Turner',\n",
    " 'Jennifer Bonilla',\n",
    " 'Rachel Gonzalez',\n",
    " 'Andrew Clark',\n",
    " 'Richard Pearson',\n",
    " 'Glenn Allen']\n",
    "\n",
    "# Find the index number of a list item\n",
    "staff.index('Jessica Lee')"
   ]
  },
  {
   "cell_type": "markdown",
   "metadata": {},
   "source": [
    "___\n",
    "<h3 style=\"color:red; display:inline\">Try it! &lt; / &gt; </h3>\n",
    "\n",
    "**What is the index number of Lisa Grant in `staff`?**\n",
    "___"
   ]
  },
  {
   "cell_type": "code",
   "execution_count": 51,
   "metadata": {},
   "outputs": [
    {
     "data": {
      "text/plain": [
       "14"
      ]
     },
     "execution_count": 51,
     "metadata": {},
     "output_type": "execute_result"
    }
   ],
   "source": [
    "staff.index('Lisa Grant')"
   ]
  },
  {
   "cell_type": "markdown",
   "metadata": {},
   "source": [
    "### The `append()` Method\n",
    "\n",
    "The `append()` [method](https://docs.constellate.org/key-terms/#method) adds a value to the end of a [list](https://docs.constellate.org/key-terms/#list)."
   ]
  },
  {
   "cell_type": "markdown",
   "metadata": {},
   "source": [
    "___\n",
    "<h3 style=\"color:red; display:inline\">Try it! &lt; / &gt; </h3>\n",
    "\n",
    "**Can you add your name to `staff`?**\n",
    "___"
   ]
  },
  {
   "cell_type": "code",
   "execution_count": 56,
   "metadata": {},
   "outputs": [
    {
     "name": "stdout",
     "output_type": "stream",
     "text": [
      "Daniel Studenmund\n"
     ]
    }
   ],
   "source": [
    "staff.append('Daniel Studenmund')\n",
    "print(staff[-1])"
   ]
  },
  {
   "cell_type": "code",
   "execution_count": 54,
   "metadata": {},
   "outputs": [
    {
     "data": {
      "text/plain": [
       "['Tara Richards',\n",
       " 'Tammy French',\n",
       " 'Justin Douglas',\n",
       " 'Lauren Marquez',\n",
       " 'Aaron Wilson',\n",
       " 'Dennis Howell',\n",
       " 'Brandon Reed',\n",
       " 'Kelly Baker',\n",
       " 'Justin Howard',\n",
       " 'Sarah Myers',\n",
       " 'Vanessa Burgess',\n",
       " 'Timothy Davidson',\n",
       " 'Jessica Lee',\n",
       " 'Christopher Miller',\n",
       " 'Lisa Grant',\n",
       " 'Ryan Chan',\n",
       " 'Gary Carson',\n",
       " 'Anthony Mitchell',\n",
       " 'Jacob Turner',\n",
       " 'Jennifer Bonilla',\n",
       " 'Rachel Gonzalez',\n",
       " 'Andrew Clark',\n",
       " 'Richard Pearson',\n",
       " 'Glenn Allen']"
      ]
     },
     "execution_count": 54,
     "metadata": {},
     "output_type": "execute_result"
    }
   ],
   "source": [
    "# Using the append() method to add an item to the end of a list\n",
    "staff = ['Tara Richards',\n",
    " 'Tammy French',\n",
    " 'Justin Douglas',\n",
    " 'Lauren Marquez',\n",
    " 'Aaron Wilson',\n",
    " 'Dennis Howell',\n",
    " 'Brandon Reed',\n",
    " 'Kelly Baker',\n",
    " 'Justin Howard',\n",
    " 'Sarah Myers',\n",
    " 'Vanessa Burgess',\n",
    " 'Timothy Davidson',\n",
    " 'Jessica Lee',\n",
    " 'Christopher Miller',\n",
    " 'Lisa Grant',\n",
    " 'Ryan Chan',\n",
    " 'Gary Carson',\n",
    " 'Anthony Mitchell',\n",
    " 'Jacob Turner',\n",
    " 'Jennifer Bonilla',\n",
    " 'Rachel Gonzalez',\n",
    " 'Andrew Clark',\n",
    " 'Richard Pearson',\n",
    " 'Glenn Allen']\n",
    "\n",
    "# Append a staff member to the list\n",
    "\n",
    "\n",
    "# Prints `staff` in a vertical list format to check that the name was added. \n",
    "# The list() function will print our list in an easier to read format than the print() function.\n",
    "list(staff) "
   ]
  },
  {
   "cell_type": "markdown",
   "metadata": {},
   "source": [
    "We can also add an item to the end of a [list](https://docs.constellate.org/key-terms/#list) by using an [assignment statement](https://docs.constellate.org/key-terms/#assignment-statement)."
   ]
  },
  {
   "cell_type": "code",
   "execution_count": 55,
   "metadata": {},
   "outputs": [
    {
     "data": {
      "text/plain": [
       "['Tara Richards',\n",
       " 'Tammy French',\n",
       " 'Justin Douglas',\n",
       " 'Lauren Marquez',\n",
       " 'Aaron Wilson',\n",
       " 'Dennis Howell',\n",
       " 'Brandon Reed',\n",
       " 'Kelly Baker',\n",
       " 'Justin Howard',\n",
       " 'Sarah Myers',\n",
       " 'Vanessa Burgess',\n",
       " 'Timothy Davidson',\n",
       " 'Jessica Lee',\n",
       " 'Christopher Miller',\n",
       " 'Lisa Grant',\n",
       " 'Ryan Chan',\n",
       " 'Gary Carson',\n",
       " 'Anthony Mitchell',\n",
       " 'Jacob Turner',\n",
       " 'Jennifer Bonilla',\n",
       " 'Rachel Gonzalez',\n",
       " 'Andrew Clark',\n",
       " 'Richard Pearson',\n",
       " 'Glenn Allen',\n",
       " 'Einhorn Finkle']"
      ]
     },
     "execution_count": 55,
     "metadata": {},
     "output_type": "execute_result"
    }
   ],
   "source": [
    "# Adding an item to a list using an assignment statement\n",
    "# We are concatenating two lists\n",
    "\n",
    "staff = staff + ['Einhorn Finkle'] # Concatenate staff list with the list ['Einhorn Finkle']\n",
    "list(staff)"
   ]
  },
  {
   "cell_type": "code",
   "execution_count": 57,
   "metadata": {},
   "outputs": [
    {
     "data": {
      "text/plain": [
       "['Tara Richards',\n",
       " 'Tammy French',\n",
       " 'Justin Douglas',\n",
       " 'Lauren Marquez',\n",
       " 'Aaron Wilson',\n",
       " 'Dennis Howell',\n",
       " 'Brandon Reed',\n",
       " 'Kelly Baker',\n",
       " 'Justin Howard',\n",
       " 'Sarah Myers',\n",
       " 'Vanessa Burgess',\n",
       " 'Timothy Davidson',\n",
       " 'Jessica Lee',\n",
       " 'Christopher Miller',\n",
       " 'Lisa Grant',\n",
       " 'Ryan Chan',\n",
       " 'Gary Carson',\n",
       " 'Anthony Mitchell',\n",
       " 'Jacob Turner',\n",
       " 'Jennifer Bonilla',\n",
       " 'Rachel Gonzalez',\n",
       " 'Andrew Clark',\n",
       " 'Richard Pearson',\n",
       " 'Glenn Allen',\n",
       " 'Einhorn Finkle',\n",
       " 'Daniel Studenmund']"
      ]
     },
     "execution_count": 57,
     "metadata": {},
     "output_type": "execute_result"
    }
   ],
   "source": [
    "staff"
   ]
  },
  {
   "cell_type": "markdown",
   "metadata": {},
   "source": [
    "### The `insert()` Method\n",
    "\n",
    "The `insert()` [method](https://docs.constellate.org/key-terms/#method) is similar to `append()` but it takes an [argument](https://docs.constellate.org/key-terms/#argument) that lets us choose an [index number](https://docs.constellate.org/key-terms/#index-number) to insert the new item."
   ]
  },
  {
   "cell_type": "code",
   "execution_count": 58,
   "metadata": {},
   "outputs": [
    {
     "data": {
      "text/plain": [
       "['Tara Richards',\n",
       " 'Tammy French',\n",
       " 'Justin Douglas',\n",
       " 'Lauren Marquez',\n",
       " 'Aaron Wilson',\n",
       " 'Arya Stark',\n",
       " 'Dennis Howell',\n",
       " 'Brandon Reed',\n",
       " 'Kelly Baker',\n",
       " 'Justin Howard',\n",
       " 'Sarah Myers',\n",
       " 'Vanessa Burgess',\n",
       " 'Timothy Davidson',\n",
       " 'Jessica Lee',\n",
       " 'Christopher Miller',\n",
       " 'Lisa Grant',\n",
       " 'Ryan Chan',\n",
       " 'Gary Carson',\n",
       " 'Anthony Mitchell',\n",
       " 'Jacob Turner',\n",
       " 'Jennifer Bonilla',\n",
       " 'Rachel Gonzalez',\n",
       " 'Andrew Clark',\n",
       " 'Richard Pearson',\n",
       " 'Glenn Allen']"
      ]
     },
     "execution_count": 58,
     "metadata": {},
     "output_type": "execute_result"
    }
   ],
   "source": [
    "# Using the insert() method to add an item at a specific index number\n",
    "staff = ['Tara Richards',\n",
    " 'Tammy French',\n",
    " 'Justin Douglas',\n",
    " 'Lauren Marquez',\n",
    " 'Aaron Wilson',\n",
    " 'Dennis Howell',\n",
    " 'Brandon Reed',\n",
    " 'Kelly Baker',\n",
    " 'Justin Howard',\n",
    " 'Sarah Myers',\n",
    " 'Vanessa Burgess',\n",
    " 'Timothy Davidson',\n",
    " 'Jessica Lee',\n",
    " 'Christopher Miller',\n",
    " 'Lisa Grant',\n",
    " 'Ryan Chan',\n",
    " 'Gary Carson',\n",
    " 'Anthony Mitchell',\n",
    " 'Jacob Turner',\n",
    " 'Jennifer Bonilla',\n",
    " 'Rachel Gonzalez',\n",
    " 'Andrew Clark',\n",
    " 'Richard Pearson',\n",
    " 'Glenn Allen']\n",
    "\n",
    "staff.insert(5, 'Arya Stark') # Insert the name 'Arya Stark' at index 5 (The sixth name on the list)\n",
    "list(staff) # Prints `staff` to check that the name was added at the right spot"
   ]
  },
  {
   "cell_type": "markdown",
   "metadata": {},
   "source": [
    "___\n",
    "<h3 style=\"color:red; display:inline\">Try it! &lt; / &gt; </h3>\n",
    "\n",
    "**Can you make your name the third item on `staff`?**\n",
    "___"
   ]
  },
  {
   "cell_type": "code",
   "execution_count": 61,
   "metadata": {},
   "outputs": [
    {
     "name": "stdout",
     "output_type": "stream",
     "text": [
      "['Tara Richards', 'Tammy French', 'Daniel Studenmund', 'Daniel Studenmund', 'Daniel Studenmund', 'Justin Douglas', 'Lauren Marquez', 'Aaron Wilson', 'Arya Stark', 'Dennis Howell', 'Brandon Reed', 'Kelly Baker', 'Justin Howard', 'Sarah Myers', 'Vanessa Burgess', 'Timothy Davidson', 'Jessica Lee', 'Christopher Miller', 'Lisa Grant', 'Ryan Chan', 'Gary Carson', 'Anthony Mitchell', 'Jacob Turner', 'Jennifer Bonilla', 'Rachel Gonzalez', 'Andrew Clark', 'Richard Pearson', 'Glenn Allen']\n"
     ]
    },
    {
     "data": {
      "text/plain": [
       "['Tara Richards',\n",
       " 'Tammy French',\n",
       " 'Daniel Studenmund',\n",
       " 'Daniel Studenmund',\n",
       " 'Daniel Studenmund',\n",
       " 'Justin Douglas',\n",
       " 'Lauren Marquez',\n",
       " 'Aaron Wilson',\n",
       " 'Arya Stark',\n",
       " 'Dennis Howell',\n",
       " 'Brandon Reed',\n",
       " 'Kelly Baker',\n",
       " 'Justin Howard',\n",
       " 'Sarah Myers',\n",
       " 'Vanessa Burgess',\n",
       " 'Timothy Davidson',\n",
       " 'Jessica Lee',\n",
       " 'Christopher Miller',\n",
       " 'Lisa Grant',\n",
       " 'Ryan Chan',\n",
       " 'Gary Carson',\n",
       " 'Anthony Mitchell',\n",
       " 'Jacob Turner',\n",
       " 'Jennifer Bonilla',\n",
       " 'Rachel Gonzalez',\n",
       " 'Andrew Clark',\n",
       " 'Richard Pearson',\n",
       " 'Glenn Allen']"
      ]
     },
     "execution_count": 61,
     "metadata": {},
     "output_type": "execute_result"
    }
   ],
   "source": [
    "staff.insert(2, 'Daniel Studenmund') \n",
    "print(staff)\n",
    "list(staff)"
   ]
  },
  {
   "cell_type": "markdown",
   "metadata": {},
   "source": [
    "### The `remove()` Method\n",
    "\n",
    "The `remove()` [method](https://docs.constellate.org/key-terms/#method) removes the first item from the [list](https://docs.constellate.org/key-terms/#list) that has a matching value."
   ]
  },
  {
   "cell_type": "code",
   "execution_count": 64,
   "metadata": {},
   "outputs": [
    {
     "data": {
      "text/plain": [
       "['Tara Richards',\n",
       " 'Tammy French',\n",
       " 'Justin Douglas',\n",
       " 'Lauren Marquez',\n",
       " 'Aaron Wilson',\n",
       " 'Dennis Howell',\n",
       " 'Brandon Reed',\n",
       " 'Kelly Baker',\n",
       " 'Justin Howard',\n",
       " 'Sarah Myers',\n",
       " 'Timothy Davidson',\n",
       " 'Jessica Lee',\n",
       " 'Christopher Miller',\n",
       " 'Lisa Grant',\n",
       " 'Ryan Chan',\n",
       " 'Gary Carson',\n",
       " 'Anthony Mitchell',\n",
       " 'Jacob Turner',\n",
       " 'Jennifer Bonilla',\n",
       " 'Rachel Gonzalez',\n",
       " 'Andrew Clark',\n",
       " 'Richard Pearson',\n",
       " 'Glenn Allen']"
      ]
     },
     "execution_count": 64,
     "metadata": {},
     "output_type": "execute_result"
    }
   ],
   "source": [
    "# Using the remove() method to remove the first item with a matching value\n",
    "staff = ['Tara Richards',\n",
    " 'Tammy French',\n",
    " 'Justin Douglas',\n",
    " 'Lauren Marquez',\n",
    " 'Aaron Wilson',\n",
    " 'Dennis Howell',\n",
    " 'Brandon Reed',\n",
    " 'Kelly Baker',\n",
    " 'Justin Howard',\n",
    " 'Sarah Myers',\n",
    " 'Vanessa Burgess',\n",
    " 'Timothy Davidson',\n",
    " 'Jessica Lee',\n",
    " 'Christopher Miller',\n",
    " 'Lisa Grant',\n",
    " 'Ryan Chan',\n",
    " 'Gary Carson',\n",
    " 'Anthony Mitchell',\n",
    " 'Jacob Turner',\n",
    " 'Jennifer Bonilla',\n",
    " 'Rachel Gonzalez',\n",
    " 'Andrew Clark',\n",
    " 'Richard Pearson',\n",
    " 'Glenn Allen']\n",
    "# Write your remove statement under this comment\n",
    "staff.remove('Vanessa Burgess')\n",
    "\n",
    "# Print `staff` to check that the name was removed\n",
    "list(staff) "
   ]
  },
  {
   "cell_type": "code",
   "execution_count": 65,
   "metadata": {},
   "outputs": [
    {
     "ename": "ValueError",
     "evalue": "list.remove(x): x not in list",
     "output_type": "error",
     "traceback": [
      "\u001b[0;31m---------------------------------------------------------------------------\u001b[0m",
      "\u001b[0;31mValueError\u001b[0m                                Traceback (most recent call last)",
      "\u001b[0;32m<ipython-input-65-3af608c335ef>\u001b[0m in \u001b[0;36m<module>\u001b[0;34m\u001b[0m\n\u001b[0;32m----> 1\u001b[0;31m \u001b[0mstaff\u001b[0m\u001b[0;34m.\u001b[0m\u001b[0mremove\u001b[0m\u001b[0;34m(\u001b[0m\u001b[0;34m'Daniel'\u001b[0m\u001b[0;34m)\u001b[0m\u001b[0;34m\u001b[0m\u001b[0;34m\u001b[0m\u001b[0m\n\u001b[0m",
      "\u001b[0;31mValueError\u001b[0m: list.remove(x): x not in list"
     ]
    }
   ],
   "source": [
    "staff.remove('Daniel')"
   ]
  },
  {
   "cell_type": "markdown",
   "metadata": {},
   "source": [
    "___\n",
    "<h3 style=\"color:red; display:inline\">Try it! &lt; / &gt; </h3>\n",
    "\n",
    "**Can you remove Glenn Allen from `staff`?**\n",
    "___"
   ]
  },
  {
   "cell_type": "code",
   "execution_count": 66,
   "metadata": {},
   "outputs": [],
   "source": [
    "staff.remove('Glenn Allen')"
   ]
  },
  {
   "cell_type": "markdown",
   "metadata": {},
   "source": [
    "If you know the value you wish to remove then the `remove()` [method](https://docs.constellate.org/key-terms/#method) is the best option. If you know the [index number](https://docs.constellate.org/key-terms/#index-number) of the item, you can use a `del` statement to delete [list](https://docs.constellate.org/key-terms/#list) items."
   ]
  },
  {
   "cell_type": "code",
   "execution_count": 67,
   "metadata": {},
   "outputs": [
    {
     "data": {
      "text/plain": [
       "['Tara Richards',\n",
       " 'Tammy French',\n",
       " 'Justin Douglas',\n",
       " 'Lauren Marquez',\n",
       " 'Aaron Wilson',\n",
       " 'Dennis Howell',\n",
       " 'Brandon Reed',\n",
       " 'Kelly Baker',\n",
       " 'Justin Howard',\n",
       " 'Sarah Myers',\n",
       " 'Vanessa Burgess',\n",
       " 'Timothy Davidson',\n",
       " 'Jessica Lee',\n",
       " 'Christopher Miller',\n",
       " 'Lisa Grant',\n",
       " 'Ryan Chan',\n",
       " 'Gary Carson',\n",
       " 'Anthony Mitchell',\n",
       " 'Jacob Turner',\n",
       " 'Jennifer Bonilla',\n",
       " 'Rachel Gonzalez',\n",
       " 'Andrew Clark',\n",
       " 'Richard Pearson']"
      ]
     },
     "execution_count": 67,
     "metadata": {},
     "output_type": "execute_result"
    }
   ],
   "source": [
    "# Using a `del` statement to delete a list item\n",
    "staff = ['Tara Richards',\n",
    " 'Tammy French',\n",
    " 'Justin Douglas',\n",
    " 'Lauren Marquez',\n",
    " 'Aaron Wilson',\n",
    " 'Dennis Howell',\n",
    " 'Brandon Reed',\n",
    " 'Kelly Baker',\n",
    " 'Justin Howard',\n",
    " 'Sarah Myers',\n",
    " 'Vanessa Burgess',\n",
    " 'Timothy Davidson',\n",
    " 'Jessica Lee',\n",
    " 'Christopher Miller',\n",
    " 'Lisa Grant',\n",
    " 'Ryan Chan',\n",
    " 'Gary Carson',\n",
    " 'Anthony Mitchell',\n",
    " 'Jacob Turner',\n",
    " 'Jennifer Bonilla',\n",
    " 'Rachel Gonzalez',\n",
    " 'Andrew Clark',\n",
    " 'Richard Pearson',\n",
    " 'Glenn Allen']\n",
    "del staff[-1] # Delete the final item in the list. In this case, 'Glenn Allen'.\n",
    "list(staff)"
   ]
  },
  {
   "cell_type": "code",
   "execution_count": 72,
   "metadata": {},
   "outputs": [
    {
     "data": {
      "text/plain": [
       "['Tara Richards',\n",
       " 'Tammy French',\n",
       " 'Justin Douglas',\n",
       " 'Lauren Marquez',\n",
       " 'Aaron Wilson',\n",
       " 'Dennis Howell',\n",
       " 'Brandon Reed',\n",
       " 'Kelly Baker',\n",
       " 'Justin Howard',\n",
       " 'Sarah Myers',\n",
       " 'Vanessa Burgess',\n",
       " 'Timothy Davidson',\n",
       " 'Jessica Lee',\n",
       " 'Christopher Miller',\n",
       " 'Lisa Grant',\n",
       " 'Ryan Chan',\n",
       " 'Gary Carson',\n",
       " 'Anthony Mitchell']"
      ]
     },
     "execution_count": 72,
     "metadata": {},
     "output_type": "execute_result"
    }
   ],
   "source": [
    "del staff[-1] # Delete the final item in the list. In this case, 'Glenn Allen'.\n",
    "list(staff)"
   ]
  },
  {
   "cell_type": "markdown",
   "metadata": {},
   "source": [
    "### The `sort()` Method\n",
    "\n",
    "The `sort()` [method](https://docs.constellate.org/key-terms/#method) sorts a [list](https://docs.constellate.org/key-terms/#list) in alphabetical order, where strings with capital letters are sorted A-Z, then strings with lowercase letters are sorted A-Z."
   ]
  },
  {
   "cell_type": "code",
   "execution_count": 73,
   "metadata": {},
   "outputs": [
    {
     "data": {
      "text/plain": [
       "['Aaron Wilson',\n",
       " 'Andrew Clark',\n",
       " 'Anthony Mitchell',\n",
       " 'Brandon Reed',\n",
       " 'Christopher Miller',\n",
       " 'Dennis Howell',\n",
       " 'Gary Carson',\n",
       " 'Glenn Allen',\n",
       " 'Jacob Turner',\n",
       " 'Jennifer Bonilla',\n",
       " 'Jessica Lee',\n",
       " 'Justin Douglas',\n",
       " 'Justin Howard',\n",
       " 'Kelly Baker',\n",
       " 'Lauren Marquez',\n",
       " 'Lisa Grant',\n",
       " 'Rachel Gonzalez',\n",
       " 'Richard Pearson',\n",
       " 'Ryan Chan',\n",
       " 'Sarah Myers',\n",
       " 'Tammy French',\n",
       " 'Tara Richards',\n",
       " 'Timothy Davidson',\n",
       " 'Vanessa Burgess']"
      ]
     },
     "execution_count": 73,
     "metadata": {},
     "output_type": "execute_result"
    }
   ],
   "source": [
    "# Using the `sort()` method to sort a list in alpha-numeric order\n",
    "staff = ['Tara Richards',\n",
    " 'Tammy French',\n",
    " 'Justin Douglas',\n",
    " 'Lauren Marquez',\n",
    " 'Aaron Wilson',\n",
    " 'Dennis Howell',\n",
    " 'Brandon Reed',\n",
    " 'Kelly Baker',\n",
    " 'Justin Howard',\n",
    " 'Sarah Myers',\n",
    " 'Vanessa Burgess',\n",
    " 'Timothy Davidson',\n",
    " 'Jessica Lee',\n",
    " 'Christopher Miller',\n",
    " 'Lisa Grant',\n",
    " 'Ryan Chan',\n",
    " 'Gary Carson',\n",
    " 'Anthony Mitchell',\n",
    " 'Jacob Turner',\n",
    " 'Jennifer Bonilla',\n",
    " 'Rachel Gonzalez',\n",
    " 'Andrew Clark',\n",
    " 'Richard Pearson',\n",
    " 'Glenn Allen']\n",
    "staff.sort()\n",
    "list(staff)"
   ]
  },
  {
   "cell_type": "markdown",
   "metadata": {},
   "source": [
    "___\n",
    "<h3 style=\"color:red; display:inline\">Try it! &lt; / &gt; </h3>\n",
    "\n",
    "**The `sort()` method can take the argument `reverse=True`. Try applying it to the `sort()` method above. What does it do?**\n",
    "___"
   ]
  },
  {
   "cell_type": "code",
   "execution_count": 74,
   "metadata": {},
   "outputs": [
    {
     "data": {
      "text/plain": [
       "['Vanessa Burgess',\n",
       " 'Timothy Davidson',\n",
       " 'Tara Richards',\n",
       " 'Tammy French',\n",
       " 'Sarah Myers',\n",
       " 'Ryan Chan',\n",
       " 'Richard Pearson',\n",
       " 'Rachel Gonzalez',\n",
       " 'Lisa Grant',\n",
       " 'Lauren Marquez',\n",
       " 'Kelly Baker',\n",
       " 'Justin Howard',\n",
       " 'Justin Douglas',\n",
       " 'Jessica Lee',\n",
       " 'Jennifer Bonilla',\n",
       " 'Jacob Turner',\n",
       " 'Glenn Allen',\n",
       " 'Gary Carson',\n",
       " 'Dennis Howell',\n",
       " 'Christopher Miller',\n",
       " 'Brandon Reed',\n",
       " 'Anthony Mitchell',\n",
       " 'Andrew Clark',\n",
       " 'Aaron Wilson']"
      ]
     },
     "execution_count": 74,
     "metadata": {},
     "output_type": "execute_result"
    }
   ],
   "source": [
    "staff.sort(reverse=True)\n",
    "list(staff)"
   ]
  },
  {
   "cell_type": "markdown",
   "metadata": {},
   "source": [
    "___\n",
    "<h2 style=\"color:red; display:inline\">Coding Challenge! &lt; / &gt; </h2>\n",
    "\n",
    "**Using your knowledge of flow control statements and lists, can you write a program that transforms a list of strings into a single string of comma-separated values? Check the end of this notebook for possible solutions.\n",
    "___"
   ]
  },
  {
   "cell_type": "code",
   "execution_count": null,
   "metadata": {},
   "outputs": [],
   "source": [
    "# Level 1 Challenge\n",
    "# A challenge to transform a list of books into a single string of comma-separated values\n",
    "# The result should be the string: 'Piers Plowman, The Canterbury Tales, Revelations of Divine Love, The Decameron, Le Morte d'Arthur'\n",
    "book_list = ['Piers Plowman', 'The Canterbury Tales', 'Revelations of Divine Love', 'The Decameron', \"Le Morte d'Arthur\"]\n",
    "\n",
    "# Level 2 Challenge\n",
    "# For even more challenge, transform a list of lists containing books and authors into a single string of comma-separated values with an 'and' before the final value. Oxford comma please.\n",
    "# The result should be the string: 'Piers Plowman by William Langland, The Canterbury Tales by Geoffrey Chaucer, Revelations of Divine Love by Julian of Norwich, The Decameron by Giovanni Boccaccio, and Le Morte d'Arthur by Sir Thomas Malory'\n",
    "\n",
    "books_with_authors = [['Piers Plowman', 'William Langland'], ['The Canterbury Tales', 'Geoffrey Chaucer'], ['Revelations of Divine Love', 'Julian of Norwich'], ['The Decameron', 'Giovanni Boccaccio'], [\"Le Morte d'Arthur\", 'Sir Thomas Malory']]\n",
    "\n"
   ]
  },
  {
   "cell_type": "markdown",
   "metadata": {},
   "source": [
    "## Dictionaries\n",
    "\n",
    "Like a [list](https://docs.constellate.org/key-terms/#list), a [dictionary](https://docs.constellate.org/key-terms/#dictionary) can hold many values within a single [variable](https://docs.constellate.org/key-terms/#variable). We have seen that the items of a [list](https://docs.constellate.org/key-terms/#list) are stored in a strictly-ordered fashion, starting from item 0. In a [dictionary](https://docs.constellate.org/key-terms/#dictionary), each [value](https://docs.constellate.org/key-terms/#key-value-pair) is stored in relation to a descriptive [key](https://docs.constellate.org/key-terms/#key-value-pair) forming a [key/value pair](https://docs.constellate.org/key-terms/#key-value-pair). Technically, as of [Python](https://docs.constellate.org/key-terms/#python) 3.7 (June 2018), [dictionaries](https://docs.constellate.org/key-terms/#dictionary) are also ordered by insertion. In practice, however, the most useful aspect of a [dictionary](https://docs.constellate.org/key-terms/#dictionary) is the ability to supply a [key](https://docs.constellate.org/key-terms/#key-value-pair) and receive a [value](https://docs.constellate.org/key-terms/#key-value-pair) without reference to [indices](https://docs.constellate.org/key-terms/#index-number). Whereas a [list](https://docs.constellate.org/key-terms/#list) is typed with brackets `[]`, a [dictionary](https://docs.constellate.org/key-terms/#dictionary) is typed with braces `{}`. The [key](https://docs.constellate.org/key-terms/#key-value-pair) and/or [value](https://docs.constellate.org/key-terms/#key-value-pair) can be an [integer](https://docs.constellate.org/key-terms/#integer), [float](https://docs.constellate.org/key-terms/#float), or [string](https://docs.constellate.org/key-terms/#string).\n",
    "\n",
    "`example_dictionary = {key1 : value1, key2 : value2, key3 : value3}`\n",
    "\n",
    "We could imagine, for example, a [dictionary](https://docs.constellate.org/key-terms/#dictionary) with our professional contacts' names as [keys](https://docs.constellate.org/key-terms/#key-value-pair) and their occupations as [values](https://docs.constellate.org/key-terms/#key-value-pair)."
   ]
  },
  {
   "cell_type": "code",
   "execution_count": 76,
   "metadata": {},
   "outputs": [
    {
     "name": "stdout",
     "output_type": "stream",
     "text": [
      "{'Amanda Bennett': 'Engineer, electrical',\n",
      " 'Bryan Miller': 'Radiation protection practitioner',\n",
      " 'Christopher Garrison': 'Planning and development surveyor',\n",
      " 'Debra Allen': 'Intelligence analyst',\n",
      " 'Donna Decker': 'Architect',\n",
      " 'Heather Bullock': 'Media planner',\n",
      " 'Jason Brown': 'Energy manager',\n",
      " 'Jason Soto': 'Lighting technician, broadcasting/film/video',\n",
      " 'Marissa Munoz': 'Further education lecturer',\n",
      " 'Matthew Mccall': 'Chief Technology Officer',\n",
      " 'Michael Norman': 'Translator',\n",
      " 'Nicole Leblanc': 'Financial controller',\n",
      " 'Noah Delgado': 'Engineer, land',\n",
      " 'Rachel Charles': 'Physicist, medical',\n",
      " 'Stephanie Petty': 'Architect'}\n",
      "{'Amanda Bennett': 'Engineer, electrical', 'Bryan Miller': 'Radiation protection practitioner', 'Christopher Garrison': 'Planning and development surveyor', 'Debra Allen': 'Intelligence analyst', 'Donna Decker': 'Architect', 'Heather Bullock': 'Media planner', 'Jason Brown': 'Energy manager', 'Jason Soto': 'Lighting technician, broadcasting/film/video', 'Marissa Munoz': 'Further education lecturer', 'Matthew Mccall': 'Chief Technology Officer', 'Michael Norman': 'Translator', 'Nicole Leblanc': 'Financial controller', 'Noah Delgado': 'Engineer, land', 'Rachel Charles': 'Physicist, medical', 'Stephanie Petty': 'Architect'}\n"
     ]
    }
   ],
   "source": [
    "# An example of a dictionary storing names and occupations\n",
    "contacts ={\n",
    " 'Amanda Bennett': 'Engineer, electrical',\n",
    " 'Bryan Miller': 'Radiation protection practitioner',\n",
    " 'Christopher Garrison': 'Planning and development surveyor',\n",
    " 'Debra Allen': 'Intelligence analyst',\n",
    " 'Donna Decker': 'Architect',\n",
    " 'Heather Bullock': 'Media planner',\n",
    " 'Jason Brown': 'Energy manager',\n",
    " 'Jason Soto': 'Lighting technician, broadcasting/film/video',\n",
    " 'Marissa Munoz': 'Further education lecturer',\n",
    " 'Matthew Mccall': 'Chief Technology Officer',\n",
    " 'Michael Norman': 'Translator',\n",
    " 'Nicole Leblanc': 'Financial controller',\n",
    " 'Noah Delgado': 'Engineer, land',\n",
    " 'Rachel Charles': 'Physicist, medical',\n",
    " 'Stephanie Petty': 'Architect'}\n",
    "from pprint import pprint # We import the pretty print function which prints out dictionaries in a neater fashion than the built-in print() function\n",
    "pprint(contacts) # Use the pretty print function to print `contacts`\n",
    "print(contacts)"
   ]
  },
  {
   "cell_type": "markdown",
   "metadata": {},
   "source": [
    "We can add a new [key/value pair](https://docs.constellate.org/key-terms/#key-value-pair) to our [dictionary](https://docs.constellate.org/key-terms/#dictionary) using an [assignment statement](https://docs.constellate.org/key-terms/#assignment-statement)."
   ]
  },
  {
   "cell_type": "code",
   "execution_count": 77,
   "metadata": {},
   "outputs": [
    {
     "name": "stdout",
     "output_type": "stream",
     "text": [
      "{'Amanda Bennett': 'Engineer, electrical',\n",
      " 'Bryan Miller': 'Radiation protection practitioner',\n",
      " 'Christopher Garrison': 'Planning and development surveyor',\n",
      " 'Debra Allen': 'Intelligence analyst',\n",
      " 'Donna Decker': 'Architect',\n",
      " 'Heather Bullock': 'Media planner',\n",
      " 'Jason Brown': 'Energy manager',\n",
      " 'Jason Soto': 'Lighting technician, broadcasting/film/video',\n",
      " 'Marissa Munoz': 'Further education lecturer',\n",
      " 'Matthew Mccall': 'Chief Technology Officer',\n",
      " 'Michael Norman': 'Translator',\n",
      " 'Nathan Kelber': 'Community Engagement Lead',\n",
      " 'Nicole Leblanc': 'Financial controller',\n",
      " 'Noah Delgado': 'Engineer, land',\n",
      " 'Rachel Charles': 'Physicist, medical',\n",
      " 'Stephanie Petty': 'Architect'}\n"
     ]
    }
   ],
   "source": [
    "# Adding the key 'Nathan Kelber' with the value 'Community Engagement Lead' to the dictionary contact\n",
    "contacts['Nathan Kelber'] = 'Community Engagement Lead'\n",
    "\n",
    "pprint(contacts) # Use the pretty print function to print `contacts`"
   ]
  },
  {
   "cell_type": "markdown",
   "metadata": {},
   "source": [
    "___\n",
    "<h3 style=\"color:red; display:inline\">Try it! &lt; / &gt; </h3>\n",
    "\n",
    "**Can you add your name to the contacts dictionary?**\n",
    "___"
   ]
  },
  {
   "cell_type": "code",
   "execution_count": 78,
   "metadata": {},
   "outputs": [
    {
     "name": "stdout",
     "output_type": "stream",
     "text": [
      "{'Amanda Bennett': 'Engineer, electrical',\n",
      " 'Bryan Miller': 'Radiation protection practitioner',\n",
      " 'Christopher Garrison': 'Planning and development surveyor',\n",
      " 'Daniel Studenmund': 'Amateur baker',\n",
      " 'Debra Allen': 'Intelligence analyst',\n",
      " 'Donna Decker': 'Architect',\n",
      " 'Heather Bullock': 'Media planner',\n",
      " 'Jason Brown': 'Energy manager',\n",
      " 'Jason Soto': 'Lighting technician, broadcasting/film/video',\n",
      " 'Marissa Munoz': 'Further education lecturer',\n",
      " 'Matthew Mccall': 'Chief Technology Officer',\n",
      " 'Michael Norman': 'Translator',\n",
      " 'Nathan Kelber': 'Community Engagement Lead',\n",
      " 'Nicole Leblanc': 'Financial controller',\n",
      " 'Noah Delgado': 'Engineer, land',\n",
      " 'Rachel Charles': 'Physicist, medical',\n",
      " 'Stephanie Petty': 'Architect'}\n"
     ]
    }
   ],
   "source": [
    "# Adding the key 'Nathan Kelber' with the value 'Community Engagement Lead' to the dictionary contact\n",
    "contacts['Daniel Studenmund'] = 'Amateur baker'\n",
    "\n",
    "pprint(contacts) # Use the pretty print function to print `contacts`"
   ]
  },
  {
   "cell_type": "markdown",
   "metadata": {},
   "source": [
    "Similar to deleting an item from a [list](https://docs.constellate.org/key-terms/#list), we can use a `del` statement to delete a [key/value pair](https://docs.constellate.org/key-terms/#key-value-pair)."
   ]
  },
  {
   "cell_type": "code",
   "execution_count": 79,
   "metadata": {},
   "outputs": [
    {
     "name": "stdout",
     "output_type": "stream",
     "text": [
      "{'Amanda Bennett': 'Engineer, electrical',\n",
      " 'Christopher Garrison': 'Planning and development surveyor',\n",
      " 'Daniel Studenmund': 'Amateur baker',\n",
      " 'Debra Allen': 'Intelligence analyst',\n",
      " 'Donna Decker': 'Architect',\n",
      " 'Heather Bullock': 'Media planner',\n",
      " 'Jason Brown': 'Energy manager',\n",
      " 'Jason Soto': 'Lighting technician, broadcasting/film/video',\n",
      " 'Marissa Munoz': 'Further education lecturer',\n",
      " 'Matthew Mccall': 'Chief Technology Officer',\n",
      " 'Michael Norman': 'Translator',\n",
      " 'Nathan Kelber': 'Community Engagement Lead',\n",
      " 'Nicole Leblanc': 'Financial controller',\n",
      " 'Noah Delgado': 'Engineer, land',\n",
      " 'Rachel Charles': 'Physicist, medical',\n",
      " 'Stephanie Petty': 'Architect'}\n"
     ]
    }
   ],
   "source": [
    "# Deleting a key/value pair from the dictionary contacts\n",
    "del contacts['Bryan Miller'] \n",
    "\n",
    "pprint(contacts) # Use the pretty print function to print `contacts`"
   ]
  },
  {
   "cell_type": "markdown",
   "metadata": {},
   "source": [
    "## Dictionary Methods\n",
    "\n",
    "We'll take a look at five useful [methods](https://docs.constellate.org/key-terms/#method) for working with [dictionaries](https://docs.constellate.org/key-terms/#dictionary): `update()`, `keys()`, `values()`, `items()`, and `get()`.\n",
    "\n",
    "|Method Name | Purpose | Form |\n",
    "|---|---|---|\n",
    "|update()| add new key/value pairs to a dictionary | dict_name.update(\\[(key1, value1), (key2, value2)])|\n",
    "| &nbsp; | combine two dictionaries |dict_name.update(dict_name2)|\n",
    "|keys()| check if a key is in a dictionary (True/False) | key_name in dict_name.keys()|\n",
    "| &nbsp; | Loop through the keys in a dictionary | for k in dict.keys():|\n",
    "|values()| check if a value is in a dictionary (True/False) | value_name in dict_name.values()|\n",
    "| &nbsp;| Loop through the values in a dictionary | for v in dict.values():|\n",
    "|items()| Loop through the keys and values in a dictionary | for k, v in dict.items():|\n",
    "|get()| retrieve the value for a specific key | dict_name.get(key_name) |"
   ]
  },
  {
   "cell_type": "markdown",
   "metadata": {},
   "source": [
    "### The `update()` Method\n",
    "\n",
    "The `update()` [method](https://docs.constellate.org/key-terms/#method) is useful for adding many [key/value pairs](https://docs.constellate.org/key-terms/#key-value-pair) to a [dictionary](https://docs.constellate.org/key-terms/#dictionary) at once. The `update()` [method](https://docs.constellate.org/key-terms/#method) accepts a single [key/value pair](https://docs.constellate.org/key-terms/#key-value-pair), multiple pairs, or even other [dictionaries](https://docs.constellate.org/key-terms/#dictionary)."
   ]
  },
  {
   "cell_type": "code",
   "execution_count": 80,
   "metadata": {},
   "outputs": [
    {
     "name": "stdout",
     "output_type": "stream",
     "text": [
      "{'Amanda Bennett': 'Engineer, electrical',\n",
      " 'Christopher Garrison': 'Planning and development surveyor',\n",
      " 'Daniel Studenmund': 'Amateur baker',\n",
      " 'Debra Allen': 'Intelligence analyst',\n",
      " 'Donna Decker': 'Architect',\n",
      " 'Heather Bullock': 'Media planner',\n",
      " 'Jason Brown': 'Energy manager',\n",
      " 'Jason Hanover': 'Animal Trainer',\n",
      " 'Jason Soto': 'Lighting technician, broadcasting/film/video',\n",
      " 'Marissa Munoz': 'Further education lecturer',\n",
      " 'Matthew Mccall': 'Chief Technology Officer',\n",
      " 'Michael Norman': 'Translator',\n",
      " 'Nathan Kelber': 'Community Engagement Lead',\n",
      " 'Nicole Leblanc': 'Financial controller',\n",
      " 'Noah Delgado': 'Engineer, land',\n",
      " 'Rachel Charles': 'Physicist, medical',\n",
      " 'Stephanie Petty': 'Architect'}\n"
     ]
    }
   ],
   "source": [
    "# Add a single key/value pair to the dictionary contacts using the update() method\n",
    "contacts.update([('Jason Hanover', 'Animal Trainer')])\n",
    "\n",
    "pprint(contacts) # Use the pretty print function to print `contacts`"
   ]
  },
  {
   "cell_type": "code",
   "execution_count": 81,
   "metadata": {},
   "outputs": [
    {
     "name": "stdout",
     "output_type": "stream",
     "text": [
      "{'Amanda Bennett': 'Engineer, electrical',\n",
      " 'Christopher Garrison': 'Planning and development surveyor',\n",
      " 'Daniel Studenmund': 'Amateur baker',\n",
      " 'Debra Allen': 'Intelligence analyst',\n",
      " 'Donna Decker': 'Architect',\n",
      " 'Heather Bullock': 'Media planner',\n",
      " 'Jason Brown': 'Energy manager',\n",
      " 'Jason Hanover': 'Animal Trainer',\n",
      " 'Jason Soto': 'Lighting technician, broadcasting/film/video',\n",
      " 'Marissa Munoz': 'Further education lecturer',\n",
      " 'Matthew Kirschenbaum': 'Professor',\n",
      " 'Matthew Mccall': 'Chief Technology Officer',\n",
      " 'Michael Norman': 'Translator',\n",
      " 'Nathan Kelber': 'Community Engagement Lead',\n",
      " 'Nicole Leblanc': 'Financial controller',\n",
      " 'Noah Delgado': 'Engineer, land',\n",
      " 'Rachel Charles': 'Physicist, medical',\n",
      " 'Sarah Morris': 'Librarian',\n",
      " 'Stephanie Petty': 'Architect'}\n"
     ]
    }
   ],
   "source": [
    "# Adding several key/value pairs to the dictionary contacts using the update() method\n",
    "contacts.update([('Matthew Kirschenbaum', 'Professor'), ('Sarah Morris', 'Librarian')])\n",
    "\n",
    "pprint(contacts) # Use the pretty print function to print `contacts`"
   ]
  },
  {
   "cell_type": "markdown",
   "metadata": {},
   "source": [
    "### The `keys()` and `values()` Methods\n",
    "\n",
    "The `keys()`, `values()`, and `items()` [methods](https://docs.constellate.org/key-terms/#method) are useful for when checking whether a particular [key](https://docs.constellate.org/key-terms/#key-value-pair) or [value](https://docs.constellate.org/key-terms/#key-value-pair) exists in a [dictionary](https://docs.constellate.org/key-terms/#dictionary). We can pair them with `in` or `not in` operators to check whether a value is in our [dictionary](https://docs.constellate.org/key-terms/#dictionary) (just like we did with [lists](https://docs.constellate.org/key-terms/#list))."
   ]
  },
  {
   "cell_type": "code",
   "execution_count": 82,
   "metadata": {},
   "outputs": [
    {
     "name": "stdout",
     "output_type": "stream",
     "text": [
      "{'Amanda Bennett': 'Engineer, electrical',\n",
      " 'Bryan Miller': 'Radiation protection practitioner',\n",
      " 'Christopher Garrison': 'Planning and development surveyor',\n",
      " 'Debra Allen': 'Intelligence analyst',\n",
      " 'Donna Decker': 'Architect',\n",
      " 'Heather Bullock': 'Media planner',\n",
      " 'Jason Brown': 'Energy manager',\n",
      " 'Jason Soto': 'Lighting technician, broadcasting/film/video',\n",
      " 'Marissa Munoz': 'Further education lecturer',\n",
      " 'Matthew Mccall': 'Chief Technology Officer',\n",
      " 'Michael Norman': 'Translator',\n",
      " 'Nicole Leblanc': 'Financial controller',\n",
      " 'Noah Delgado': 'Engineer, land',\n",
      " 'Rachel Charles': 'Physicist, medical',\n",
      " 'Stephanie Petty': 'Architect'}\n"
     ]
    }
   ],
   "source": [
    "# Checking whether a string exists within a key, value, or both.\n",
    "contacts ={\n",
    " 'Amanda Bennett': 'Engineer, electrical',\n",
    " 'Bryan Miller': 'Radiation protection practitioner',\n",
    " 'Christopher Garrison': 'Planning and development surveyor',\n",
    " 'Debra Allen': 'Intelligence analyst',\n",
    " 'Donna Decker': 'Architect',\n",
    " 'Heather Bullock': 'Media planner',\n",
    " 'Jason Brown': 'Energy manager',\n",
    " 'Jason Soto': 'Lighting technician, broadcasting/film/video',\n",
    " 'Marissa Munoz': 'Further education lecturer',\n",
    " 'Matthew Mccall': 'Chief Technology Officer',\n",
    " 'Michael Norman': 'Translator',\n",
    " 'Nicole Leblanc': 'Financial controller',\n",
    " 'Noah Delgado': 'Engineer, land',\n",
    " 'Rachel Charles': 'Physicist, medical',\n",
    " 'Stephanie Petty': 'Architect'}\n",
    "\n",
    "pprint(contacts)"
   ]
  },
  {
   "cell_type": "code",
   "execution_count": 83,
   "metadata": {},
   "outputs": [
    {
     "data": {
      "text/plain": [
       "True"
      ]
     },
     "execution_count": 83,
     "metadata": {},
     "output_type": "execute_result"
    }
   ],
   "source": [
    "# Checking if the value Architect is in the contacts dictionary\n",
    "# Do I know an architect?\n",
    "'Architect' in contacts.values()"
   ]
  },
  {
   "cell_type": "markdown",
   "metadata": {},
   "source": [
    "### The `get()` Method\n",
    "\n",
    "If we are sure a [key](https://docs.constellate.org/key-terms/#key-value-pair) exists, we can use:\n",
    "\n",
    "`dict_name[key_name]` "
   ]
  },
  {
   "cell_type": "code",
   "execution_count": 91,
   "metadata": {},
   "outputs": [
    {
     "data": {
      "text/plain": [
       "'Engineer, land'"
      ]
     },
     "execution_count": 91,
     "metadata": {},
     "output_type": "execute_result"
    }
   ],
   "source": [
    "# Return a value for a particular key\n",
    "contacts['Noah Delgado']"
   ]
  },
  {
   "cell_type": "code",
   "execution_count": 92,
   "metadata": {},
   "outputs": [],
   "source": [
    "# Fixed to handle errors\n",
    "try:\n",
    "    contacts['Noah Delgado']\n",
    "except:\n",
    "    print('Nobody with that name')"
   ]
  },
  {
   "cell_type": "markdown",
   "metadata": {},
   "source": [
    "However, if the [key](https://docs.constellate.org/key-terms/#key-value-pair) is not found, the result will be a `KeyError`. The more robust approach is to use the `get()` [method](https://docs.constellate.org/key-terms/#method). If the [key](https://docs.constellate.org/key-terms/#key-value-pair) is not found, the `None` value will be returned. (Optionally, we can also specify a default message to return.)\n",
    "\n",
    "`dict_name.get('key_name', 'key_not_found_message')`"
   ]
  },
  {
   "cell_type": "code",
   "execution_count": 85,
   "metadata": {},
   "outputs": [
    {
     "data": {
      "text/plain": [
       "'Further education lecturer'"
      ]
     },
     "execution_count": 85,
     "metadata": {},
     "output_type": "execute_result"
    }
   ],
   "source": [
    "# Using the get() method to retrieve the value for the key 'Marissa Munoz'\n",
    "contacts.get('Marissa Munoz', 'No contact with that name')"
   ]
  },
  {
   "cell_type": "markdown",
   "metadata": {},
   "source": [
    "___\n",
    "<h3 style=\"color:red; display:inline\">Try it! &lt; / &gt; </h3>\n",
    "\n",
    "**Try searching for a name not in contacts with `contacts[name]` and then with `contacts.get('name', 'No contact with that name')`**\n",
    "___"
   ]
  },
  {
   "cell_type": "code",
   "execution_count": 86,
   "metadata": {},
   "outputs": [
    {
     "data": {
      "text/plain": [
       "'No contact with that name'"
      ]
     },
     "execution_count": 86,
     "metadata": {},
     "output_type": "execute_result"
    }
   ],
   "source": [
    "contacts.get('Alexandra Quinn', 'No contact with that name')"
   ]
  },
  {
   "cell_type": "markdown",
   "metadata": {},
   "source": [
    "### Combining `keys()`, `values()`, and `items()` with Flow Control Statements\n",
    "\n",
    "It is often usful to combine `for` loops with the keys(), values(), or items() [methods](https://docs.constellate.org/key-terms/#method) to repeat a task for each entry in a [dictionary](https://docs.constellate.org/key-terms/#dictionary)."
   ]
  },
  {
   "cell_type": "code",
   "execution_count": 93,
   "metadata": {},
   "outputs": [
    {
     "name": "stdout",
     "output_type": "stream",
     "text": [
      "Amanda Bennett\n",
      "Bryan Miller\n",
      "Christopher Garrison\n",
      "Debra Allen\n",
      "Donna Decker\n",
      "Heather Bullock\n",
      "Jason Brown\n",
      "Jason Soto\n",
      "Marissa Munoz\n",
      "Matthew Mccall\n",
      "Michael Norman\n",
      "Nicole Leblanc\n",
      "Noah Delgado\n",
      "Rachel Charles\n",
      "Stephanie Petty\n"
     ]
    }
   ],
   "source": [
    "# Print every key in our contacts dictionary\n",
    "for k in contacts.keys(): # The variable `k` here is just a convenient shorthand. It could easily be named `key` or something else.\n",
    "    print(k)"
   ]
  },
  {
   "cell_type": "code",
   "execution_count": 94,
   "metadata": {},
   "outputs": [
    {
     "name": "stdout",
     "output_type": "stream",
     "text": [
      "Engineer, electrical\n",
      "Radiation protection practitioner\n",
      "Planning and development surveyor\n",
      "Intelligence analyst\n",
      "Architect\n",
      "Media planner\n",
      "Energy manager\n",
      "Lighting technician, broadcasting/film/video\n",
      "Further education lecturer\n",
      "Chief Technology Officer\n",
      "Translator\n",
      "Financial controller\n",
      "Engineer, land\n",
      "Physicist, medical\n",
      "Architect\n"
     ]
    }
   ],
   "source": [
    "# Print every value in our contacts dictionary\n",
    "for v in contacts.values(): # The variable `v` here is just a convenient shorthand. It could easily be named `value` or something else.\n",
    "    print(v)"
   ]
  },
  {
   "cell_type": "code",
   "execution_count": 95,
   "metadata": {},
   "outputs": [
    {
     "name": "stdout",
     "output_type": "stream",
     "text": [
      "Name: Amanda Bennett | Occupation: Engineer, electrical\n",
      "Name: Bryan Miller | Occupation: Radiation protection practitioner\n",
      "Name: Christopher Garrison | Occupation: Planning and development surveyor\n",
      "Name: Debra Allen | Occupation: Intelligence analyst\n",
      "Name: Donna Decker | Occupation: Architect\n",
      "Name: Heather Bullock | Occupation: Media planner\n",
      "Name: Jason Brown | Occupation: Energy manager\n",
      "Name: Jason Soto | Occupation: Lighting technician, broadcasting/film/video\n",
      "Name: Marissa Munoz | Occupation: Further education lecturer\n",
      "Name: Matthew Mccall | Occupation: Chief Technology Officer\n",
      "Name: Michael Norman | Occupation: Translator\n",
      "Name: Nicole Leblanc | Occupation: Financial controller\n",
      "Name: Noah Delgado | Occupation: Engineer, land\n",
      "Name: Rachel Charles | Occupation: Physicist, medical\n",
      "Name: Stephanie Petty | Occupation: Architect\n"
     ]
    }
   ],
   "source": [
    "# Print every key and value in our contacts dictionary\n",
    "for k, v in contacts.items():\n",
    "    print(f'Name: {k} | Occupation: {v}')"
   ]
  },
  {
   "cell_type": "code",
   "execution_count": 98,
   "metadata": {},
   "outputs": [
    {
     "name": "stdout",
     "output_type": "stream",
     "text": [
      "Donna Decker\n",
      "Stephanie Petty\n"
     ]
    }
   ],
   "source": [
    "# Print names of given occupation\n",
    "for name, occupation in contacts.items():\n",
    "    if occupation == 'Architect':\n",
    "        print(name)"
   ]
  },
  {
   "cell_type": "code",
   "execution_count": 100,
   "metadata": {},
   "outputs": [
    {
     "name": "stdout",
     "output_type": "stream",
     "text": [
      "Donna Decker\n",
      "Stephanie Petty\n"
     ]
    }
   ],
   "source": [
    "# Print names of given occupation\n",
    "for name in contacts.keys():\n",
    "    if contacts[name] == 'Architect':\n",
    "        print(name)"
   ]
  },
  {
   "cell_type": "code",
   "execution_count": 124,
   "metadata": {},
   "outputs": [
    {
     "name": "stdout",
     "output_type": "stream",
     "text": [
      "dict_values(['Engineer, electrical', 'Radiation protection practitioner', 'Planning and development surveyor', 'Intelligence analyst', 'Architect', 'Media planner', 'Energy manager', 'Lighting technician, broadcasting/film/video', 'Further education lecturer', 'Chief Technology Officer', 'Translator', 'Financial controller', 'Engineer, land', 'Physicist, medical', 'Architect'])\n",
      "['Engineer, electrical', 'Radiation protection practitioner', 'Planning and development surveyor', 'Intelligence analyst', 'Architect', 'Media planner', 'Energy manager', 'Lighting technician, broadcasting/film/video', 'Further education lecturer', 'Chief Technology Officer', 'Translator', 'Financial controller', 'Engineer, land', 'Physicist, medical', 'Architect']\n",
      "['Architect', 'Architect', 'Chief Technology Officer', 'Energy manager', 'Engineer, electrical', 'Engineer, land', 'Financial controller', 'Further education lecturer', 'Intelligence analyst', 'Lighting technician, broadcasting/film/video', 'Media planner', 'Physicist, medical', 'Planning and development surveyor', 'Radiation protection practitioner', 'Translator']\n"
     ]
    }
   ],
   "source": [
    "# Sorting values list\n",
    "occupations = contacts.values()\n",
    "print(occupations)\n",
    "occupations_list = list(occupations)\n",
    "print(occupations_list)\n",
    "sorted_occ_list = occupations_list\n",
    "sorted_occ_list.sort()\n",
    "print(sorted_occ_list)"
   ]
  },
  {
   "cell_type": "code",
   "execution_count": 127,
   "metadata": {},
   "outputs": [
    {
     "name": "stdout",
     "output_type": "stream",
     "text": [
      "Architect:\n",
      "\n",
      "- Donna Decker\n",
      "\n",
      "- Stephanie Petty\n",
      "\n",
      "Architect:\n",
      "\n",
      "- Donna Decker\n",
      "\n",
      "- Stephanie Petty\n",
      "\n",
      "Chief Technology Officer:\n",
      "\n",
      "- Matthew Mccall\n",
      "\n",
      "Energy manager:\n",
      "\n",
      "- Jason Brown\n",
      "\n",
      "Engineer, electrical:\n",
      "\n",
      "- Amanda Bennett\n",
      "\n",
      "Engineer, land:\n",
      "\n",
      "- Noah Delgado\n",
      "\n",
      "Financial controller:\n",
      "\n",
      "- Nicole Leblanc\n",
      "\n",
      "Further education lecturer:\n",
      "\n",
      "- Marissa Munoz\n",
      "\n",
      "Intelligence analyst:\n",
      "\n",
      "- Debra Allen\n",
      "\n",
      "Lighting technician, broadcasting/film/video:\n",
      "\n",
      "- Jason Soto\n",
      "\n",
      "Media planner:\n",
      "\n",
      "- Heather Bullock\n",
      "\n",
      "Physicist, medical:\n",
      "\n",
      "- Rachel Charles\n",
      "\n",
      "Planning and development surveyor:\n",
      "\n",
      "- Christopher Garrison\n",
      "\n",
      "Radiation protection practitioner:\n",
      "\n",
      "- Bryan Miller\n",
      "\n",
      "Translator:\n",
      "\n",
      "- Michael Norman\n",
      "\n"
     ]
    }
   ],
   "source": [
    "# Print names by occupation???\n",
    "occupation_list = list(contacts.values())\n",
    "occupation_list.sort()\n",
    "for occupation in occupation_list:\n",
    "    print(f'{occupation}:\\n')\n",
    "    for name in contacts.keys():\n",
    "        if contacts[name] == occupation:\n",
    "            print(f'- {name}\\n')"
   ]
  },
  {
   "cell_type": "code",
   "execution_count": 120,
   "metadata": {},
   "outputs": [
    {
     "name": "stdout",
     "output_type": "stream",
     "text": [
      "115000\n"
     ]
    }
   ],
   "source": [
    "# stores name and corresponding salaries\n",
    "salary = {\"raj\" : 50000, \"striver\" : 60000, \"vikram\" : 5000} \n",
    "  \n",
    "# stores the salaries only\n",
    "list1 = salary.values() \n",
    "print(sum(list1))  # prints the sum of all salaries"
   ]
  },
  {
   "cell_type": "markdown",
   "metadata": {},
   "source": [
    "___\n",
    "## Lesson Complete\n",
    "\n",
    "Congratulations! You've completed the *Python Basics* series. \n",
    "\n",
    "Considering the amount of material in *Python Basics 1-3* there's a good chance you won't retain it all. That's okay. Programmers often need to look up things to accomplish a task they haven't done in a while, particularly if it is in a language they don't often use. When you're working on a project, you can always come back to these lessons as reference materials. In other words, you've learned an incredible amount, so don't be surprised if it doesn't all stick at first.\n",
    "\n",
    "If you want to help yourself retain what you've learned, the best way is to start putting it into practice. Try your hand at creating some small Python projects and recognize that the things you've learned here will cement with time and practice. When you do forget a particular thing&mdash;as we all do&mdash;a quick web search often turns up some useful examples.\n",
    "\n",
    "\n",
    "### Start Another Python Skills Lesson: \n",
    "* [Working with Dataset Files](./working-with-dataset-files.ipynb)\n",
    "* [Pandas I](./pandas-1.ipynb)\n",
    "\n",
    "### Start a Text Analysis Lesson:\n",
    "* [Exploring Metadata](./exploring-metadata.ipynb)\n"
   ]
  },
  {
   "cell_type": "markdown",
   "metadata": {},
   "source": [
    "### Coding Challenge! Solutions\n",
    "\n",
    "There are often many ways to solve programming problems. Here are a few possible ways to solve the challenges, but there are certainly more!\n",
    "\n",
    "#### Challenge Level 1\n",
    "\n",
    "Transform a list of books into a single string of comma-separated values. Using the list:\n",
    "\n",
    "`book_list = ['Piers Plowman', 'The Canterbury Tales', 'Revelations of Divine Love', 'The Decameron', \"Le Morte d'Arthur\"]`\n",
    "\n",
    "Print the string:\n",
    "`'Piers Plowman, The Canterbury Tales, Revelations of Divine Love, The Decameron, Le Morte d'Arthur'`"
   ]
  },
  {
   "cell_type": "code",
   "execution_count": null,
   "metadata": {},
   "outputs": [],
   "source": [
    "# Assign list to book_list\n",
    "book_list = ['Piers Plowman',\n",
    "  'The Canterbury Tales', \n",
    "  'Revelations of Divine Love', \n",
    "  'The Decameron', \n",
    "  \"Le Morte d'Arthur\"]"
   ]
  },
  {
   "cell_type": "code",
   "execution_count": null,
   "metadata": {},
   "outputs": [],
   "source": [
    "# Solution 1\n",
    "# For loop\n",
    "\n",
    "for book in book_list[:-1]: \n",
    "    print(book + ', ', end='')\n",
    "print(book_list[-1])"
   ]
  },
  {
   "cell_type": "code",
   "execution_count": null,
   "metadata": {},
   "outputs": [],
   "source": [
    "# Solution 2 \n",
    "# For i in range()\n",
    "\n",
    "for i in range(len(book_list) - 1):\n",
    "    print(book_list[i] + ', ', end='')\n",
    "print(book_list[-1])"
   ]
  },
  {
   "cell_type": "code",
   "execution_count": null,
   "metadata": {},
   "outputs": [],
   "source": [
    "# Solution 3\n",
    "# While loop\n",
    "\n",
    "# While loop\n",
    "i=0\n",
    "while i < (len(book_list) - 1):\n",
    "    print(book_list[i] + ', ', end='')\n",
    "    i += 1\n",
    "print(book_list[-1])"
   ]
  },
  {
   "cell_type": "code",
   "execution_count": null,
   "metadata": {},
   "outputs": [],
   "source": [
    "# Solution 4\n",
    "# String join method\n",
    "# (We did not learn this join method, but it does exactly what we want)\n",
    "print(', '.join(book_list))"
   ]
  },
  {
   "cell_type": "markdown",
   "metadata": {},
   "source": [
    "#### Challenge Level 2\n",
    "\n",
    "Transform a list of lists containing books and authors into a single string of comma-separated values with an 'and' before the final value. Oxford comma please.\n",
    "\n",
    "Using the list:\n",
    "\n",
    "`[['Piers Plowman', 'William Langland'], ['The Canterbury Tales', 'Geoffrey Chaucer'], ['Revelations of Divine Love', 'Julian of Norwich'], ['The Decameron', 'Giovanni Boccaccio'], [\"Le Morte d'Arthur\", 'Sir Thomas Malory']]`\n",
    "\n",
    "Print the string:\n",
    "\n",
    "`'Piers Plowman by William Langland, The Canterbury Tales by Geoffrey Chaucer, Revelations of Divine Love by Julian of Norwich, The Decameron by Giovanni Boccaccio, and Le Morte d'Arthur by Sir Thomas Malory'`\n",
    "\n"
   ]
  },
  {
   "cell_type": "code",
   "execution_count": null,
   "metadata": {},
   "outputs": [],
   "source": [
    "# Assign list to books_with_authors\n",
    "books_with_authors = [['Piers Plowman', 'William Langland'],\n",
    "  ['The Canterbury Tales', 'Geoffrey Chaucer'], \n",
    "  ['Revelations of Divine Love', 'Julian of Norwich'], \n",
    "  ['The Decameron', 'Giovanni Boccaccio'], \n",
    "  [\"Le Morte d'Arthur\", 'Sir Thomas Malory']]"
   ]
  },
  {
   "cell_type": "code",
   "execution_count": null,
   "metadata": {},
   "outputs": [],
   "source": [
    "# Solution 1\n",
    "# For loop\n",
    "for b in books_with_authors[:-1]:\n",
    "    print(b[0] + ' by ' + b[1] + ', ', end='')\n",
    "print('and ' + books_with_authors[-1][0] + ' by ' + books_with_authors[-1][1])"
   ]
  },
  {
   "cell_type": "code",
   "execution_count": null,
   "metadata": {},
   "outputs": [],
   "source": [
    "# Solution 2\n",
    "# For i in range()\n",
    "\n",
    "for i in range(len(books_with_authors) - 1):\n",
    "    print(books_with_authors[i][0] + ' by ' + books_with_authors[i][1] + ', ', end='')\n",
    "print('and ' + books_with_authors[-1][0] + ' by ' + books_with_authors[-1][1])"
   ]
  },
  {
   "cell_type": "code",
   "execution_count": null,
   "metadata": {},
   "outputs": [],
   "source": [
    "# Solution 3\n",
    "# While loop\n",
    "i=0\n",
    "while i < (len(books_with_authors) - 1):\n",
    "    print(books_with_authors[i][0] + ' by ' + books_with_authors[i][1] + ', ', end='')\n",
    "    i += 1\n",
    "print('and ' + books_with_authors[-1][0] + ' by ' + books_with_authors[-1][1])"
   ]
  },
  {
   "cell_type": "code",
   "execution_count": null,
   "metadata": {},
   "outputs": [],
   "source": [
    "# Solution 4\n",
    "# String join method \n",
    "# (We did not learn this method, but it does exactly what we want.)\n",
    "\n",
    "new_list = []\n",
    "for b in books_with_authors[:-1]:\n",
    "    new_list.append(str(b[0] + ' by ' + b[1]))\n",
    "\n",
    "print(', '.join(new_list) + ', and ' + books_with_authors[-1][0] + ' by ' + books_with_authors[-1][1])"
   ]
  }
 ],
 "metadata": {
  "kernelspec": {
   "display_name": "Python 3 (ipykernel)",
   "language": "python",
   "name": "python3"
  },
  "language_info": {
   "codemirror_mode": {
    "name": "ipython",
    "version": 3
   },
   "file_extension": ".py",
   "mimetype": "text/x-python",
   "name": "python",
   "nbconvert_exporter": "python",
   "pygments_lexer": "ipython3",
   "version": "3.9.6"
  },
  "toc": {
   "base_numbering": 1,
   "nav_menu": {},
   "number_sections": true,
   "sideBar": true,
   "skip_h1_title": true,
   "title_cell": "Table of Contents",
   "title_sidebar": "Contents",
   "toc_cell": false,
   "toc_position": {
    "height": "calc(100% - 180px)",
    "left": "10px",
    "top": "150px",
    "width": "354px"
   },
   "toc_section_display": true,
   "toc_window_display": false
  }
 },
 "nbformat": 4,
 "nbformat_minor": 4
}
